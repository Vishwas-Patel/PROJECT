{
 "cells": [
  {
   "cell_type": "markdown",
   "id": "a5512408",
   "metadata": {},
   "source": [
    "# Name of the student,Standard,Division,Roll No., Three Subjects and Percentage"
   ]
  },
  {
   "cell_type": "code",
   "execution_count": 1,
   "id": "f8d7b6e4",
   "metadata": {},
   "outputs": [
    {
     "name": "stdout",
     "output_type": "stream",
     "text": [
      "Enter your First Name : Vishwaskumar\n",
      "Enter your LastName : Patel\n",
      "Enter your Stdandard : 12\n",
      "Enter your Division : A\n",
      "Enter your Roll no. : 55\n",
      "Enter your Subject1 : Maths\n",
      "Enter your Subject2 : Physics\n",
      "Enter your Subject3 : Chemistry\n",
      "Enter your percentage : 97.8\n"
     ]
    }
   ],
   "source": [
    "StudentFirstName = str(input(\"Enter your First Name : \"))\n",
    "StudentlastName  = str(input(\"Enter your LastName : \"))\n",
    "StudentStandard = int(input(\"Enter your Stdandard : \"))\n",
    "StudentDivision = str(input(\"Enter your Division : \"))\n",
    "StudentRollNo = int(input(\"Enter your Roll no. : \"))\n",
    "StudentSubject1 = str(input(\"Enter your Subject1 : \"))\n",
    "StudentSubject2 = str(input(\"Enter your Subject2 : \"))\n",
    "StudentSubject3 = str(input(\"Enter your Subject3 : \"))\n",
    "Studentpercentage = float(input(\"Enter your percentage : \"))"
   ]
  },
  {
   "cell_type": "code",
   "execution_count": 2,
   "id": "a05ce22e",
   "metadata": {},
   "outputs": [
    {
     "name": "stdout",
     "output_type": "stream",
     "text": [
      "Student's Details\n",
      "--------------------------------------------------\n",
      "Student Full Name : VISHWASKUMAR PATEL\n",
      "VISHWASKUMAR is in 12 class and A division.\n",
      "Roll No. is 55\n",
      "--------------------------------------------------\n",
      "Student's subjects\n",
      "Subject 1 : Maths\n",
      "Subject 2 : Physics\n",
      "Subject 3 : Chemistry\n",
      "--------------------------------------------------\n",
      "VISHWASKUMAR has scored 97.8 in final exam.\n",
      "--------------------------------------------------\n",
      "Congratulation VISHWASKUMAR\n"
     ]
    }
   ],
   "source": [
    "print(\"Student's Details\")\n",
    "print(\"-\"*50)\n",
    "print(\"Student Full Name : \"+StudentFirstName.upper() +\" \"+StudentlastName.upper())\n",
    "print(StudentFirstName.upper() +\" is in \"+str(StudentStandard)+\" class and \"+StudentDivision.upper()+\" division.\")\n",
    "print(\"Roll No. is \"+str(StudentRollNo))\n",
    "print(\"-\"*50)\n",
    "print(\"Student's subjects\")\n",
    "print(\"Subject 1 : \"+StudentSubject1)\n",
    "print(\"Subject 2 : \"+StudentSubject2)\n",
    "print(\"Subject 3 : \"+StudentSubject3)\n",
    "print(\"-\"*50)\n",
    "print(StudentFirstName.upper()+\" has scored \"+str(Studentpercentage)+\" in final exam.\")\n",
    "print(\"-\"*50)\n",
    "print(\"Congratulation \"+StudentFirstName.upper())"
   ]
  }
 ],
 "metadata": {
  "kernelspec": {
   "display_name": "Python 3",
   "language": "python",
   "name": "python3"
  },
  "language_info": {
   "codemirror_mode": {
    "name": "ipython",
    "version": 3
   },
   "file_extension": ".py",
   "mimetype": "text/x-python",
   "name": "python",
   "nbconvert_exporter": "python",
   "pygments_lexer": "ipython3",
   "version": "3.8.8"
  }
 },
 "nbformat": 4,
 "nbformat_minor": 5
}
